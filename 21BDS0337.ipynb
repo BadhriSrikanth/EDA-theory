{
  "nbformat": 4,
  "nbformat_minor": 0,
  "metadata": {
    "colab": {
      "provenance": [],
      "authorship_tag": "ABX9TyMnTGX/2aX4Ji9dcRgeXTVs",
      "include_colab_link": true
    },
    "kernelspec": {
      "name": "python3",
      "display_name": "Python 3"
    },
    "language_info": {
      "name": "python"
    }
  },
  "cells": [
    {
      "cell_type": "markdown",
      "metadata": {
        "id": "view-in-github",
        "colab_type": "text"
      },
      "source": [
        "<a href=\"https://colab.research.google.com/github/BadhriSrikanth/EDA-theory/blob/main/21BDS0337.ipynb\" target=\"_parent\"><img src=\"https://colab.research.google.com/assets/colab-badge.svg\" alt=\"Open In Colab\"/></a>"
      ]
    },
    {
      "cell_type": "code",
      "execution_count": 8,
      "metadata": {
        "id": "OoOKi7wlVNy0",
        "colab": {
          "base_uri": "https://localhost:8080/",
          "height": 784
        },
        "outputId": "f30f5029-4e73-4439-e335-e93aa0b950ca"
      },
      "outputs": [
        {
          "output_type": "display_data",
          "data": {
            "text/plain": [
              "<IPython.core.display.HTML object>"
            ],
            "text/html": [
              "\n",
              "     <input type=\"file\" id=\"files-9df9a66b-ce17-4140-ad35-5ff686a45b97\" name=\"files[]\" multiple disabled\n",
              "        style=\"border:none\" />\n",
              "     <output id=\"result-9df9a66b-ce17-4140-ad35-5ff686a45b97\">\n",
              "      Upload widget is only available when the cell has been executed in the\n",
              "      current browser session. Please rerun this cell to enable.\n",
              "      </output>\n",
              "      <script>// Copyright 2017 Google LLC\n",
              "//\n",
              "// Licensed under the Apache License, Version 2.0 (the \"License\");\n",
              "// you may not use this file except in compliance with the License.\n",
              "// You may obtain a copy of the License at\n",
              "//\n",
              "//      http://www.apache.org/licenses/LICENSE-2.0\n",
              "//\n",
              "// Unless required by applicable law or agreed to in writing, software\n",
              "// distributed under the License is distributed on an \"AS IS\" BASIS,\n",
              "// WITHOUT WARRANTIES OR CONDITIONS OF ANY KIND, either express or implied.\n",
              "// See the License for the specific language governing permissions and\n",
              "// limitations under the License.\n",
              "\n",
              "/**\n",
              " * @fileoverview Helpers for google.colab Python module.\n",
              " */\n",
              "(function(scope) {\n",
              "function span(text, styleAttributes = {}) {\n",
              "  const element = document.createElement('span');\n",
              "  element.textContent = text;\n",
              "  for (const key of Object.keys(styleAttributes)) {\n",
              "    element.style[key] = styleAttributes[key];\n",
              "  }\n",
              "  return element;\n",
              "}\n",
              "\n",
              "// Max number of bytes which will be uploaded at a time.\n",
              "const MAX_PAYLOAD_SIZE = 100 * 1024;\n",
              "\n",
              "function _uploadFiles(inputId, outputId) {\n",
              "  const steps = uploadFilesStep(inputId, outputId);\n",
              "  const outputElement = document.getElementById(outputId);\n",
              "  // Cache steps on the outputElement to make it available for the next call\n",
              "  // to uploadFilesContinue from Python.\n",
              "  outputElement.steps = steps;\n",
              "\n",
              "  return _uploadFilesContinue(outputId);\n",
              "}\n",
              "\n",
              "// This is roughly an async generator (not supported in the browser yet),\n",
              "// where there are multiple asynchronous steps and the Python side is going\n",
              "// to poll for completion of each step.\n",
              "// This uses a Promise to block the python side on completion of each step,\n",
              "// then passes the result of the previous step as the input to the next step.\n",
              "function _uploadFilesContinue(outputId) {\n",
              "  const outputElement = document.getElementById(outputId);\n",
              "  const steps = outputElement.steps;\n",
              "\n",
              "  const next = steps.next(outputElement.lastPromiseValue);\n",
              "  return Promise.resolve(next.value.promise).then((value) => {\n",
              "    // Cache the last promise value to make it available to the next\n",
              "    // step of the generator.\n",
              "    outputElement.lastPromiseValue = value;\n",
              "    return next.value.response;\n",
              "  });\n",
              "}\n",
              "\n",
              "/**\n",
              " * Generator function which is called between each async step of the upload\n",
              " * process.\n",
              " * @param {string} inputId Element ID of the input file picker element.\n",
              " * @param {string} outputId Element ID of the output display.\n",
              " * @return {!Iterable<!Object>} Iterable of next steps.\n",
              " */\n",
              "function* uploadFilesStep(inputId, outputId) {\n",
              "  const inputElement = document.getElementById(inputId);\n",
              "  inputElement.disabled = false;\n",
              "\n",
              "  const outputElement = document.getElementById(outputId);\n",
              "  outputElement.innerHTML = '';\n",
              "\n",
              "  const pickedPromise = new Promise((resolve) => {\n",
              "    inputElement.addEventListener('change', (e) => {\n",
              "      resolve(e.target.files);\n",
              "    });\n",
              "  });\n",
              "\n",
              "  const cancel = document.createElement('button');\n",
              "  inputElement.parentElement.appendChild(cancel);\n",
              "  cancel.textContent = 'Cancel upload';\n",
              "  const cancelPromise = new Promise((resolve) => {\n",
              "    cancel.onclick = () => {\n",
              "      resolve(null);\n",
              "    };\n",
              "  });\n",
              "\n",
              "  // Wait for the user to pick the files.\n",
              "  const files = yield {\n",
              "    promise: Promise.race([pickedPromise, cancelPromise]),\n",
              "    response: {\n",
              "      action: 'starting',\n",
              "    }\n",
              "  };\n",
              "\n",
              "  cancel.remove();\n",
              "\n",
              "  // Disable the input element since further picks are not allowed.\n",
              "  inputElement.disabled = true;\n",
              "\n",
              "  if (!files) {\n",
              "    return {\n",
              "      response: {\n",
              "        action: 'complete',\n",
              "      }\n",
              "    };\n",
              "  }\n",
              "\n",
              "  for (const file of files) {\n",
              "    const li = document.createElement('li');\n",
              "    li.append(span(file.name, {fontWeight: 'bold'}));\n",
              "    li.append(span(\n",
              "        `(${file.type || 'n/a'}) - ${file.size} bytes, ` +\n",
              "        `last modified: ${\n",
              "            file.lastModifiedDate ? file.lastModifiedDate.toLocaleDateString() :\n",
              "                                    'n/a'} - `));\n",
              "    const percent = span('0% done');\n",
              "    li.appendChild(percent);\n",
              "\n",
              "    outputElement.appendChild(li);\n",
              "\n",
              "    const fileDataPromise = new Promise((resolve) => {\n",
              "      const reader = new FileReader();\n",
              "      reader.onload = (e) => {\n",
              "        resolve(e.target.result);\n",
              "      };\n",
              "      reader.readAsArrayBuffer(file);\n",
              "    });\n",
              "    // Wait for the data to be ready.\n",
              "    let fileData = yield {\n",
              "      promise: fileDataPromise,\n",
              "      response: {\n",
              "        action: 'continue',\n",
              "      }\n",
              "    };\n",
              "\n",
              "    // Use a chunked sending to avoid message size limits. See b/62115660.\n",
              "    let position = 0;\n",
              "    do {\n",
              "      const length = Math.min(fileData.byteLength - position, MAX_PAYLOAD_SIZE);\n",
              "      const chunk = new Uint8Array(fileData, position, length);\n",
              "      position += length;\n",
              "\n",
              "      const base64 = btoa(String.fromCharCode.apply(null, chunk));\n",
              "      yield {\n",
              "        response: {\n",
              "          action: 'append',\n",
              "          file: file.name,\n",
              "          data: base64,\n",
              "        },\n",
              "      };\n",
              "\n",
              "      let percentDone = fileData.byteLength === 0 ?\n",
              "          100 :\n",
              "          Math.round((position / fileData.byteLength) * 100);\n",
              "      percent.textContent = `${percentDone}% done`;\n",
              "\n",
              "    } while (position < fileData.byteLength);\n",
              "  }\n",
              "\n",
              "  // All done.\n",
              "  yield {\n",
              "    response: {\n",
              "      action: 'complete',\n",
              "    }\n",
              "  };\n",
              "}\n",
              "\n",
              "scope.google = scope.google || {};\n",
              "scope.google.colab = scope.google.colab || {};\n",
              "scope.google.colab._files = {\n",
              "  _uploadFiles,\n",
              "  _uploadFilesContinue,\n",
              "};\n",
              "})(self);\n",
              "</script> "
            ]
          },
          "metadata": {}
        },
        {
          "output_type": "stream",
          "name": "stdout",
          "text": [
            "Saving credit_card.csv to credit_card (1).csv\n",
            "Dimensions of the dataset: (1319, 13)\n",
            "\n",
            "Summary of the dataset:\n",
            "           rownames  card      reports          age       income        share  \\\n",
            "count   1319.000000  1319  1319.000000  1319.000000  1319.000000  1319.000000   \n",
            "unique          NaN     2          NaN          NaN          NaN          NaN   \n",
            "top             NaN   yes          NaN          NaN          NaN          NaN   \n",
            "freq            NaN  1023          NaN          NaN          NaN          NaN   \n",
            "mean     660.000000   NaN     0.456406    33.213103     3.365376     0.068732   \n",
            "std      380.906813   NaN     1.345267    10.142783     1.693902     0.094656   \n",
            "min        1.000000   NaN     0.000000     0.166667     0.210000     0.000109   \n",
            "25%      330.500000   NaN     0.000000    25.416670     2.243750     0.002316   \n",
            "50%      660.000000   NaN     0.000000    31.250000     2.900000     0.038827   \n",
            "75%      989.500000   NaN     0.000000    39.416670     4.000000     0.093617   \n",
            "max     1319.000000   NaN    14.000000    83.500000    13.500000     0.906320   \n",
            "\n",
            "        expenditure owner selfemp   dependents       months   majorcards  \\\n",
            "count   1319.000000  1319    1319  1319.000000  1319.000000  1319.000000   \n",
            "unique          NaN     2       2          NaN          NaN          NaN   \n",
            "top             NaN    no      no          NaN          NaN          NaN   \n",
            "freq            NaN   738    1228          NaN          NaN          NaN   \n",
            "mean     185.057071   NaN     NaN     0.993935    55.267627     0.817286   \n",
            "std      272.218917   NaN     NaN     1.247745    66.271746     0.386579   \n",
            "min        0.000000   NaN     NaN     0.000000     0.000000     0.000000   \n",
            "25%        4.583333   NaN     NaN     0.000000    12.000000     1.000000   \n",
            "50%      101.298300   NaN     NaN     1.000000    30.000000     1.000000   \n",
            "75%      249.035800   NaN     NaN     2.000000    72.000000     1.000000   \n",
            "max     3099.505000   NaN     NaN     6.000000   540.000000     1.000000   \n",
            "\n",
            "             active  \n",
            "count   1319.000000  \n",
            "unique          NaN  \n",
            "top             NaN  \n",
            "freq            NaN  \n",
            "mean       6.996967  \n",
            "std        6.305812  \n",
            "min        0.000000  \n",
            "25%        2.000000  \n",
            "50%        6.000000  \n",
            "75%       11.000000  \n",
            "max       46.000000  \n"
          ]
        }
      ],
      "source": [
        "from google.colab import files\n",
        "import pandas as pd\n",
        "import numpy as np\n",
        "\n",
        "# Upload the file manually\n",
        "uploaded = files.upload()\n",
        "\n",
        "# Load the dataset (replace 'credit_card.csv' with your uploaded file's name)\n",
        "df = pd.read_csv('credit_card.csv')\n",
        "\n",
        "# Display dimensions of the dataset\n",
        "print(\"Dimensions of the dataset:\", df.shape)\n",
        "\n",
        "# Display summary of the dataset\n",
        "print(\"\\nSummary of the dataset:\")\n",
        "print(df.describe(include='all'))\n",
        "\n"
      ]
    },
    {
      "cell_type": "markdown",
      "source": [
        "# **1) DATA DEDUPLICATION**"
      ],
      "metadata": {
        "id": "EGJJusYylD85"
      }
    },
    {
      "cell_type": "code",
      "source": [
        "#data deduplication\n",
        "\n",
        "# Check for duplicate rows\n",
        "duplicates = df.duplicated()\n",
        "print(\"Duplicate rows:\\n\", duplicates)\n",
        "\n",
        "# Drop duplicate rows\n",
        "df_no_duplicates = df.drop_duplicates()\n",
        "print(\"Data after deduplication:\\n\", df_no_duplicates)\n",
        "\n",
        "# Add a new column and check for duplicates based on a specific column (replace 'column_name' with an actual column name from your dataset)\n",
        "df['new_column'] = range(len(df))\n",
        "df_no_duplicates_by_col = df.drop_duplicates(['age'])\n",
        "print(\"Data after deduplication by column:\\n\", df_no_duplicates_by_col)"
      ],
      "metadata": {
        "id": "_2fLAbRxi5J2",
        "colab": {
          "base_uri": "https://localhost:8080/"
        },
        "outputId": "165b26d4-3166-47d9-9488-0f05dcf1d9be"
      },
      "execution_count": 9,
      "outputs": [
        {
          "output_type": "stream",
          "name": "stdout",
          "text": [
            "Duplicate rows:\n",
            " 0       False\n",
            "1       False\n",
            "2       False\n",
            "3       False\n",
            "4       False\n",
            "        ...  \n",
            "1314    False\n",
            "1315    False\n",
            "1316    False\n",
            "1317    False\n",
            "1318    False\n",
            "Length: 1319, dtype: bool\n",
            "Data after deduplication:\n",
            "       rownames card  reports       age  income     share  expenditure owner  \\\n",
            "0            1  yes        0  37.66667  4.5200  0.033270   124.983300   yes   \n",
            "1            2  yes        0  33.25000  2.4200  0.005217     9.854167    no   \n",
            "2            3  yes        0  33.66667  4.5000  0.004156    15.000000   yes   \n",
            "3            4  yes        0  30.50000  2.5400  0.065214   137.869200    no   \n",
            "4            5  yes        0  32.16667  9.7867  0.067051   546.503300   yes   \n",
            "...        ...  ...      ...       ...     ...       ...          ...   ...   \n",
            "1314      1315  yes        0  33.58333  4.5660  0.002146     7.333333   yes   \n",
            "1315      1316   no        5  23.91667  3.1920  0.000376     0.000000    no   \n",
            "1316      1317  yes        0  40.58333  4.6000  0.026513   101.298300   yes   \n",
            "1317      1318  yes        0  32.83333  3.7000  0.008999    26.996670    no   \n",
            "1318      1319  yes        0  48.25000  3.7000  0.111619   344.157500   yes   \n",
            "\n",
            "     selfemp  dependents  months  majorcards  active  \n",
            "0         no           3      54           1      12  \n",
            "1         no           3      34           1      13  \n",
            "2         no           4      58           1       5  \n",
            "3         no           0      25           1       7  \n",
            "4         no           2      64           1       5  \n",
            "...      ...         ...     ...         ...     ...  \n",
            "1314      no           0      94           1      19  \n",
            "1315      no           3      12           1       5  \n",
            "1316      no           2       1           1       2  \n",
            "1317     yes           0      60           1       7  \n",
            "1318      no           2       2           1       0  \n",
            "\n",
            "[1319 rows x 13 columns]\n",
            "Data after deduplication by column:\n",
            "       rownames card  reports       age  income     share  expenditure owner  \\\n",
            "0            1  yes        0  37.66667  4.5200  0.033270   124.983300   yes   \n",
            "1            2  yes        0  33.25000  2.4200  0.005217     9.854167    no   \n",
            "2            3  yes        0  33.66667  4.5000  0.004156    15.000000   yes   \n",
            "3            4  yes        0  30.50000  2.5400  0.065214   137.869200    no   \n",
            "4            5  yes        0  32.16667  9.7867  0.067051   546.503300   yes   \n",
            "...        ...  ...      ...       ...     ...       ...          ...   ...   \n",
            "1237      1238   no        1  52.75000  3.1000  0.000387     0.000000   yes   \n",
            "1250      1251   no        0  41.33333  4.4400  0.000270     0.000000   yes   \n",
            "1286      1287  yes        1  48.66667  6.0000  0.177017   885.085800   yes   \n",
            "1297      1298   no        0  35.41667  2.7800  0.000432     0.000000    no   \n",
            "1298      1299  yes        0  58.08333  4.4000  0.026596    97.184170   yes   \n",
            "\n",
            "     selfemp  dependents  months  majorcards  active  new_column  \n",
            "0         no           3      54           1      12           0  \n",
            "1         no           3      34           1      13           1  \n",
            "2         no           4      58           1       5           2  \n",
            "3         no           0      25           1       7           3  \n",
            "4         no           2      64           1       5           4  \n",
            "...      ...         ...     ...         ...     ...         ...  \n",
            "1237      no           2      75           1       9        1237  \n",
            "1250      no           2      98           1       3        1250  \n",
            "1286      no           3     114           1      19        1286  \n",
            "1297      no           0       6           1       0        1297  \n",
            "1298     yes           1     132           1      12        1298  \n",
            "\n",
            "[418 rows x 14 columns]\n"
          ]
        }
      ]
    },
    {
      "cell_type": "markdown",
      "source": [
        "# **2) DATA REPLACEMENT**"
      ],
      "metadata": {
        "id": "uu1qtKdflQoP"
      }
    },
    {
      "cell_type": "code",
      "source": [
        "# Replace a specific value (e.g., -786) with NaN\n",
        "df_replaced = df.replace(to_replace=-786, value=np.nan)\n",
        "print(\"Data after replacing -786 with NaN:\\n\", df_replaced)\n",
        "\n",
        "# Replace multiple values (e.g., -786 with NaN and 0 with 2)\n",
        "df_replaced_multiple = df.replace(to_replace=[-786, 0], value=[np.nan, 2])\n",
        "print(\"Data after replacing -786 with NaN and 0 with 2:\\n\", df_replaced_multiple)\n"
      ],
      "metadata": {
        "colab": {
          "base_uri": "https://localhost:8080/"
        },
        "id": "fodAknkqk73A",
        "outputId": "ec347dac-dc24-4105-9be0-cb6d3e926d81"
      },
      "execution_count": 10,
      "outputs": [
        {
          "output_type": "stream",
          "name": "stdout",
          "text": [
            "Data after replacing -786 with NaN:\n",
            "       rownames card  reports       age  income     share  expenditure owner  \\\n",
            "0            1  yes        0  37.66667  4.5200  0.033270   124.983300   yes   \n",
            "1            2  yes        0  33.25000  2.4200  0.005217     9.854167    no   \n",
            "2            3  yes        0  33.66667  4.5000  0.004156    15.000000   yes   \n",
            "3            4  yes        0  30.50000  2.5400  0.065214   137.869200    no   \n",
            "4            5  yes        0  32.16667  9.7867  0.067051   546.503300   yes   \n",
            "...        ...  ...      ...       ...     ...       ...          ...   ...   \n",
            "1314      1315  yes        0  33.58333  4.5660  0.002146     7.333333   yes   \n",
            "1315      1316   no        5  23.91667  3.1920  0.000376     0.000000    no   \n",
            "1316      1317  yes        0  40.58333  4.6000  0.026513   101.298300   yes   \n",
            "1317      1318  yes        0  32.83333  3.7000  0.008999    26.996670    no   \n",
            "1318      1319  yes        0  48.25000  3.7000  0.111619   344.157500   yes   \n",
            "\n",
            "     selfemp  dependents  months  majorcards  active  new_column  \n",
            "0         no           3      54           1      12           0  \n",
            "1         no           3      34           1      13           1  \n",
            "2         no           4      58           1       5           2  \n",
            "3         no           0      25           1       7           3  \n",
            "4         no           2      64           1       5           4  \n",
            "...      ...         ...     ...         ...     ...         ...  \n",
            "1314      no           0      94           1      19        1314  \n",
            "1315      no           3      12           1       5        1315  \n",
            "1316      no           2       1           1       2        1316  \n",
            "1317     yes           0      60           1       7        1317  \n",
            "1318      no           2       2           1       0        1318  \n",
            "\n",
            "[1319 rows x 14 columns]\n",
            "Data after replacing -786 with NaN and 0 with 2:\n",
            "       rownames card  reports       age  income     share  expenditure owner  \\\n",
            "0            1  yes        2  37.66667  4.5200  0.033270   124.983300   yes   \n",
            "1            2  yes        2  33.25000  2.4200  0.005217     9.854167    no   \n",
            "2            3  yes        2  33.66667  4.5000  0.004156    15.000000   yes   \n",
            "3            4  yes        2  30.50000  2.5400  0.065214   137.869200    no   \n",
            "4            5  yes        2  32.16667  9.7867  0.067051   546.503300   yes   \n",
            "...        ...  ...      ...       ...     ...       ...          ...   ...   \n",
            "1314      1315  yes        2  33.58333  4.5660  0.002146     7.333333   yes   \n",
            "1315      1316   no        5  23.91667  3.1920  0.000376     2.000000    no   \n",
            "1316      1317  yes        2  40.58333  4.6000  0.026513   101.298300   yes   \n",
            "1317      1318  yes        2  32.83333  3.7000  0.008999    26.996670    no   \n",
            "1318      1319  yes        2  48.25000  3.7000  0.111619   344.157500   yes   \n",
            "\n",
            "     selfemp  dependents  months  majorcards  active  new_column  \n",
            "0         no           3      54           1      12           2  \n",
            "1         no           3      34           1      13           1  \n",
            "2         no           4      58           1       5           2  \n",
            "3         no           2      25           1       7           3  \n",
            "4         no           2      64           1       5           4  \n",
            "...      ...         ...     ...         ...     ...         ...  \n",
            "1314      no           2      94           1      19        1314  \n",
            "1315      no           3      12           1       5        1315  \n",
            "1316      no           2       1           1       2        1316  \n",
            "1317     yes           2      60           1       7        1317  \n",
            "1318      no           2       2           1       2        1318  \n",
            "\n",
            "[1319 rows x 14 columns]\n"
          ]
        }
      ]
    },
    {
      "cell_type": "markdown",
      "source": [
        "# **3) HANDLING MISSING VALUES**"
      ],
      "metadata": {
        "id": "1kjSHMUomCvR"
      }
    },
    {
      "cell_type": "code",
      "source": [
        "df['new_column'] = np.nan\n",
        "df.loc[5, 'new_column'] = 15  # Add a non-NaN value\n",
        "\n",
        "# Check for missing values\n",
        "missing_values = df.isnull()\n",
        "print(\"Missing values:\\n\", missing_values)\n",
        "\n",
        "# Check for non-missing values\n",
        "non_missing_values = df.notnull()\n",
        "print(\"Non-missing values:\\n\", non_missing_values)\n",
        "\n",
        "# Count the number of missing values in each column\n",
        "missing_count = df.isnull().sum()\n",
        "print(\"Count of missing values per column:\\n\", missing_count)\n",
        "\n",
        "# Count the total number of missing values\n",
        "total_missing = df.isnull().sum().sum()\n",
        "print(\"Total missing values:\\n\", total_missing)\n",
        "\n",
        "# Count the number of non-missing values in each column\n",
        "non_missing_count = df.count()\n",
        "print(\"Non-missing values per column:\\n\", non_missing_count)\n"
      ],
      "metadata": {
        "colab": {
          "base_uri": "https://localhost:8080/"
        },
        "id": "qJ5lbJTym6gO",
        "outputId": "8f7a5689-9ccd-4279-aefb-f890a36f6ed6"
      },
      "execution_count": 11,
      "outputs": [
        {
          "output_type": "stream",
          "name": "stdout",
          "text": [
            "Missing values:\n",
            "       rownames   card  reports    age  income  share  expenditure  owner  \\\n",
            "0        False  False    False  False   False  False        False  False   \n",
            "1        False  False    False  False   False  False        False  False   \n",
            "2        False  False    False  False   False  False        False  False   \n",
            "3        False  False    False  False   False  False        False  False   \n",
            "4        False  False    False  False   False  False        False  False   \n",
            "...        ...    ...      ...    ...     ...    ...          ...    ...   \n",
            "1314     False  False    False  False   False  False        False  False   \n",
            "1315     False  False    False  False   False  False        False  False   \n",
            "1316     False  False    False  False   False  False        False  False   \n",
            "1317     False  False    False  False   False  False        False  False   \n",
            "1318     False  False    False  False   False  False        False  False   \n",
            "\n",
            "      selfemp  dependents  months  majorcards  active  new_column  \n",
            "0       False       False   False       False   False        True  \n",
            "1       False       False   False       False   False        True  \n",
            "2       False       False   False       False   False        True  \n",
            "3       False       False   False       False   False        True  \n",
            "4       False       False   False       False   False        True  \n",
            "...       ...         ...     ...         ...     ...         ...  \n",
            "1314    False       False   False       False   False        True  \n",
            "1315    False       False   False       False   False        True  \n",
            "1316    False       False   False       False   False        True  \n",
            "1317    False       False   False       False   False        True  \n",
            "1318    False       False   False       False   False        True  \n",
            "\n",
            "[1319 rows x 14 columns]\n",
            "Non-missing values:\n",
            "       rownames  card  reports   age  income  share  expenditure  owner  \\\n",
            "0         True  True     True  True    True   True         True   True   \n",
            "1         True  True     True  True    True   True         True   True   \n",
            "2         True  True     True  True    True   True         True   True   \n",
            "3         True  True     True  True    True   True         True   True   \n",
            "4         True  True     True  True    True   True         True   True   \n",
            "...        ...   ...      ...   ...     ...    ...          ...    ...   \n",
            "1314      True  True     True  True    True   True         True   True   \n",
            "1315      True  True     True  True    True   True         True   True   \n",
            "1316      True  True     True  True    True   True         True   True   \n",
            "1317      True  True     True  True    True   True         True   True   \n",
            "1318      True  True     True  True    True   True         True   True   \n",
            "\n",
            "      selfemp  dependents  months  majorcards  active  new_column  \n",
            "0        True        True    True        True    True       False  \n",
            "1        True        True    True        True    True       False  \n",
            "2        True        True    True        True    True       False  \n",
            "3        True        True    True        True    True       False  \n",
            "4        True        True    True        True    True       False  \n",
            "...       ...         ...     ...         ...     ...         ...  \n",
            "1314     True        True    True        True    True       False  \n",
            "1315     True        True    True        True    True       False  \n",
            "1316     True        True    True        True    True       False  \n",
            "1317     True        True    True        True    True       False  \n",
            "1318     True        True    True        True    True       False  \n",
            "\n",
            "[1319 rows x 14 columns]\n",
            "Count of missing values per column:\n",
            " rownames          0\n",
            "card              0\n",
            "reports           0\n",
            "age               0\n",
            "income            0\n",
            "share             0\n",
            "expenditure       0\n",
            "owner             0\n",
            "selfemp           0\n",
            "dependents        0\n",
            "months            0\n",
            "majorcards        0\n",
            "active            0\n",
            "new_column     1318\n",
            "dtype: int64\n",
            "Total missing values:\n",
            " 1318\n",
            "Non-missing values per column:\n",
            " rownames       1319\n",
            "card           1319\n",
            "reports        1319\n",
            "age            1319\n",
            "income         1319\n",
            "share          1319\n",
            "expenditure    1319\n",
            "owner          1319\n",
            "selfemp        1319\n",
            "dependents     1319\n",
            "months         1319\n",
            "majorcards     1319\n",
            "active         1319\n",
            "new_column        1\n",
            "dtype: int64\n"
          ]
        }
      ]
    },
    {
      "cell_type": "markdown",
      "source": [
        "# **UNIVARIATE ANALYSIS**"
      ],
      "metadata": {
        "id": "ApM9XeyFnIKF"
      }
    },
    {
      "cell_type": "code",
      "source": [
        "import matplotlib.pyplot as plt\n",
        "import seaborn as sns\n",
        "import pandas as pd\n",
        "import numpy as np\n",
        "print(df.head(3))\n",
        "print(df.tail(3))"
      ],
      "metadata": {
        "colab": {
          "base_uri": "https://localhost:8080/"
        },
        "id": "mDRwvG8Xp2Is",
        "outputId": "7693888a-4bdd-49d1-c246-236cde2a0b4b"
      },
      "execution_count": 13,
      "outputs": [
        {
          "output_type": "stream",
          "name": "stdout",
          "text": [
            "   rownames card  reports       age  income     share  expenditure owner  \\\n",
            "0         1  yes        0  37.66667    4.52  0.033270   124.983300   yes   \n",
            "1         2  yes        0  33.25000    2.42  0.005217     9.854167    no   \n",
            "2         3  yes        0  33.66667    4.50  0.004156    15.000000   yes   \n",
            "\n",
            "  selfemp  dependents  months  majorcards  active  new_column  \n",
            "0      no           3      54           1      12         NaN  \n",
            "1      no           3      34           1      13         NaN  \n",
            "2      no           4      58           1       5         NaN  \n",
            "      rownames card  reports       age  income     share  expenditure owner  \\\n",
            "1316      1317  yes        0  40.58333     4.6  0.026513    101.29830   yes   \n",
            "1317      1318  yes        0  32.83333     3.7  0.008999     26.99667    no   \n",
            "1318      1319  yes        0  48.25000     3.7  0.111619    344.15750   yes   \n",
            "\n",
            "     selfemp  dependents  months  majorcards  active  new_column  \n",
            "1316      no           2       1           1       2         NaN  \n",
            "1317     yes           0      60           1       7         NaN  \n",
            "1318      no           2       2           1       0         NaN  \n"
          ]
        }
      ]
    },
    {
      "cell_type": "code",
      "source": [
        "df.dtypes\n",
        "print(df.describe())\n",
        "pd.isna(df).any()"
      ],
      "metadata": {
        "colab": {
          "base_uri": "https://localhost:8080/",
          "height": 1000
        },
        "id": "KaAHwfKzqElJ",
        "outputId": "1447d122-ef15-4368-9822-9ef300ab402b"
      },
      "execution_count": 14,
      "outputs": [
        {
          "output_type": "stream",
          "name": "stdout",
          "text": [
            "          rownames      reports          age       income        share  \\\n",
            "count  1319.000000  1319.000000  1319.000000  1319.000000  1319.000000   \n",
            "mean    660.000000     0.456406    33.213103     3.365376     0.068732   \n",
            "std     380.906813     1.345267    10.142783     1.693902     0.094656   \n",
            "min       1.000000     0.000000     0.166667     0.210000     0.000109   \n",
            "25%     330.500000     0.000000    25.416670     2.243750     0.002316   \n",
            "50%     660.000000     0.000000    31.250000     2.900000     0.038827   \n",
            "75%     989.500000     0.000000    39.416670     4.000000     0.093617   \n",
            "max    1319.000000    14.000000    83.500000    13.500000     0.906320   \n",
            "\n",
            "       expenditure   dependents       months   majorcards       active  \\\n",
            "count  1319.000000  1319.000000  1319.000000  1319.000000  1319.000000   \n",
            "mean    185.057071     0.993935    55.267627     0.817286     6.996967   \n",
            "std     272.218917     1.247745    66.271746     0.386579     6.305812   \n",
            "min       0.000000     0.000000     0.000000     0.000000     0.000000   \n",
            "25%       4.583333     0.000000    12.000000     1.000000     2.000000   \n",
            "50%     101.298300     1.000000    30.000000     1.000000     6.000000   \n",
            "75%     249.035800     2.000000    72.000000     1.000000    11.000000   \n",
            "max    3099.505000     6.000000   540.000000     1.000000    46.000000   \n",
            "\n",
            "       new_column  \n",
            "count         1.0  \n",
            "mean         15.0  \n",
            "std           NaN  \n",
            "min          15.0  \n",
            "25%          15.0  \n",
            "50%          15.0  \n",
            "75%          15.0  \n",
            "max          15.0  \n"
          ]
        },
        {
          "output_type": "execute_result",
          "data": {
            "text/plain": [
              "rownames       False\n",
              "card           False\n",
              "reports        False\n",
              "age            False\n",
              "income         False\n",
              "share          False\n",
              "expenditure    False\n",
              "owner          False\n",
              "selfemp        False\n",
              "dependents     False\n",
              "months         False\n",
              "majorcards     False\n",
              "active         False\n",
              "new_column      True\n",
              "dtype: bool"
            ],
            "text/html": [
              "<div>\n",
              "<style scoped>\n",
              "    .dataframe tbody tr th:only-of-type {\n",
              "        vertical-align: middle;\n",
              "    }\n",
              "\n",
              "    .dataframe tbody tr th {\n",
              "        vertical-align: top;\n",
              "    }\n",
              "\n",
              "    .dataframe thead th {\n",
              "        text-align: right;\n",
              "    }\n",
              "</style>\n",
              "<table border=\"1\" class=\"dataframe\">\n",
              "  <thead>\n",
              "    <tr style=\"text-align: right;\">\n",
              "      <th></th>\n",
              "      <th>0</th>\n",
              "    </tr>\n",
              "  </thead>\n",
              "  <tbody>\n",
              "    <tr>\n",
              "      <th>rownames</th>\n",
              "      <td>False</td>\n",
              "    </tr>\n",
              "    <tr>\n",
              "      <th>card</th>\n",
              "      <td>False</td>\n",
              "    </tr>\n",
              "    <tr>\n",
              "      <th>reports</th>\n",
              "      <td>False</td>\n",
              "    </tr>\n",
              "    <tr>\n",
              "      <th>age</th>\n",
              "      <td>False</td>\n",
              "    </tr>\n",
              "    <tr>\n",
              "      <th>income</th>\n",
              "      <td>False</td>\n",
              "    </tr>\n",
              "    <tr>\n",
              "      <th>share</th>\n",
              "      <td>False</td>\n",
              "    </tr>\n",
              "    <tr>\n",
              "      <th>expenditure</th>\n",
              "      <td>False</td>\n",
              "    </tr>\n",
              "    <tr>\n",
              "      <th>owner</th>\n",
              "      <td>False</td>\n",
              "    </tr>\n",
              "    <tr>\n",
              "      <th>selfemp</th>\n",
              "      <td>False</td>\n",
              "    </tr>\n",
              "    <tr>\n",
              "      <th>dependents</th>\n",
              "      <td>False</td>\n",
              "    </tr>\n",
              "    <tr>\n",
              "      <th>months</th>\n",
              "      <td>False</td>\n",
              "    </tr>\n",
              "    <tr>\n",
              "      <th>majorcards</th>\n",
              "      <td>False</td>\n",
              "    </tr>\n",
              "    <tr>\n",
              "      <th>active</th>\n",
              "      <td>False</td>\n",
              "    </tr>\n",
              "    <tr>\n",
              "      <th>new_column</th>\n",
              "      <td>True</td>\n",
              "    </tr>\n",
              "  </tbody>\n",
              "</table>\n",
              "</div><br><label><b>dtype:</b> bool</label>"
            ]
          },
          "metadata": {},
          "execution_count": 14
        }
      ]
    },
    {
      "cell_type": "markdown",
      "source": [
        "# **DATA CLEANING**"
      ],
      "metadata": {
        "id": "mUjFVwpFqcpC"
      }
    },
    {
      "cell_type": "code",
      "source": [
        "\n",
        "# Find out the number of values which are not numeric\n",
        "df['card'].str.isnumeric().value_counts()\n",
        "\n",
        "# List out the values which are not numeric\n",
        "df['card'].loc[df['card'].str.isnumeric() == False]"
      ],
      "metadata": {
        "colab": {
          "base_uri": "https://localhost:8080/",
          "height": 458
        },
        "id": "_kNZR4j3qksw",
        "outputId": "9d11c757-c6bf-4a13-b73e-c8d64cf7baff"
      },
      "execution_count": 17,
      "outputs": [
        {
          "output_type": "execute_result",
          "data": {
            "text/plain": [
              "0       yes\n",
              "1       yes\n",
              "2       yes\n",
              "3       yes\n",
              "4       yes\n",
              "       ... \n",
              "1314    yes\n",
              "1315     no\n",
              "1316    yes\n",
              "1317    yes\n",
              "1318    yes\n",
              "Name: card, Length: 1319, dtype: object"
            ],
            "text/html": [
              "<div>\n",
              "<style scoped>\n",
              "    .dataframe tbody tr th:only-of-type {\n",
              "        vertical-align: middle;\n",
              "    }\n",
              "\n",
              "    .dataframe tbody tr th {\n",
              "        vertical-align: top;\n",
              "    }\n",
              "\n",
              "    .dataframe thead th {\n",
              "        text-align: right;\n",
              "    }\n",
              "</style>\n",
              "<table border=\"1\" class=\"dataframe\">\n",
              "  <thead>\n",
              "    <tr style=\"text-align: right;\">\n",
              "      <th></th>\n",
              "      <th>card</th>\n",
              "    </tr>\n",
              "  </thead>\n",
              "  <tbody>\n",
              "    <tr>\n",
              "      <th>0</th>\n",
              "      <td>yes</td>\n",
              "    </tr>\n",
              "    <tr>\n",
              "      <th>1</th>\n",
              "      <td>yes</td>\n",
              "    </tr>\n",
              "    <tr>\n",
              "      <th>2</th>\n",
              "      <td>yes</td>\n",
              "    </tr>\n",
              "    <tr>\n",
              "      <th>3</th>\n",
              "      <td>yes</td>\n",
              "    </tr>\n",
              "    <tr>\n",
              "      <th>4</th>\n",
              "      <td>yes</td>\n",
              "    </tr>\n",
              "    <tr>\n",
              "      <th>...</th>\n",
              "      <td>...</td>\n",
              "    </tr>\n",
              "    <tr>\n",
              "      <th>1314</th>\n",
              "      <td>yes</td>\n",
              "    </tr>\n",
              "    <tr>\n",
              "      <th>1315</th>\n",
              "      <td>no</td>\n",
              "    </tr>\n",
              "    <tr>\n",
              "      <th>1316</th>\n",
              "      <td>yes</td>\n",
              "    </tr>\n",
              "    <tr>\n",
              "      <th>1317</th>\n",
              "      <td>yes</td>\n",
              "    </tr>\n",
              "    <tr>\n",
              "      <th>1318</th>\n",
              "      <td>yes</td>\n",
              "    </tr>\n",
              "  </tbody>\n",
              "</table>\n",
              "<p>1319 rows × 1 columns</p>\n",
              "</div><br><label><b>dtype:</b> object</label>"
            ]
          },
          "metadata": {},
          "execution_count": 17
        }
      ]
    },
    {
      "cell_type": "code",
      "source": [
        "\n",
        "# Setting the missing value to mean of income and convert the datatype to integer\n",
        "income = df['income'].loc[df['income'] != '?']\n",
        "print(income)\n",
        "pmean = income.astype(int).mean()\n",
        "print(\"Mean =\", pmean)\n",
        "df['income'] = df['income'].replace('?', pmean).astype(int)\n",
        "df['income'].head(10)\n"
      ],
      "metadata": {
        "colab": {
          "base_uri": "https://localhost:8080/",
          "height": 623
        },
        "id": "xAfpWnqMqy-6",
        "outputId": "577bf892-12a7-47e2-e14a-6aed68f0c2d9"
      },
      "execution_count": 19,
      "outputs": [
        {
          "output_type": "stream",
          "name": "stdout",
          "text": [
            "0       4.5200\n",
            "1       2.4200\n",
            "2       4.5000\n",
            "3       2.5400\n",
            "4       9.7867\n",
            "         ...  \n",
            "1314    4.5660\n",
            "1315    3.1920\n",
            "1316    4.6000\n",
            "1317    3.7000\n",
            "1318    3.7000\n",
            "Name: income, Length: 1319, dtype: float64\n",
            "Mean = 2.925701288855193\n"
          ]
        },
        {
          "output_type": "execute_result",
          "data": {
            "text/plain": [
              "0    4\n",
              "1    2\n",
              "2    4\n",
              "3    2\n",
              "4    9\n",
              "5    2\n",
              "6    3\n",
              "7    2\n",
              "8    3\n",
              "9    3\n",
              "Name: income, dtype: int64"
            ],
            "text/html": [
              "<div>\n",
              "<style scoped>\n",
              "    .dataframe tbody tr th:only-of-type {\n",
              "        vertical-align: middle;\n",
              "    }\n",
              "\n",
              "    .dataframe tbody tr th {\n",
              "        vertical-align: top;\n",
              "    }\n",
              "\n",
              "    .dataframe thead th {\n",
              "        text-align: right;\n",
              "    }\n",
              "</style>\n",
              "<table border=\"1\" class=\"dataframe\">\n",
              "  <thead>\n",
              "    <tr style=\"text-align: right;\">\n",
              "      <th></th>\n",
              "      <th>income</th>\n",
              "    </tr>\n",
              "  </thead>\n",
              "  <tbody>\n",
              "    <tr>\n",
              "      <th>0</th>\n",
              "      <td>4</td>\n",
              "    </tr>\n",
              "    <tr>\n",
              "      <th>1</th>\n",
              "      <td>2</td>\n",
              "    </tr>\n",
              "    <tr>\n",
              "      <th>2</th>\n",
              "      <td>4</td>\n",
              "    </tr>\n",
              "    <tr>\n",
              "      <th>3</th>\n",
              "      <td>2</td>\n",
              "    </tr>\n",
              "    <tr>\n",
              "      <th>4</th>\n",
              "      <td>9</td>\n",
              "    </tr>\n",
              "    <tr>\n",
              "      <th>5</th>\n",
              "      <td>2</td>\n",
              "    </tr>\n",
              "    <tr>\n",
              "      <th>6</th>\n",
              "      <td>3</td>\n",
              "    </tr>\n",
              "    <tr>\n",
              "      <th>7</th>\n",
              "      <td>2</td>\n",
              "    </tr>\n",
              "    <tr>\n",
              "      <th>8</th>\n",
              "      <td>3</td>\n",
              "    </tr>\n",
              "    <tr>\n",
              "      <th>9</th>\n",
              "      <td>3</td>\n",
              "    </tr>\n",
              "  </tbody>\n",
              "</table>\n",
              "</div><br><label><b>dtype:</b> int64</label>"
            ]
          },
          "metadata": {},
          "execution_count": 19
        }
      ]
    },
    {
      "cell_type": "code",
      "source": [
        "# Cleaning the expenditure losses field\n",
        "expenditure = df['expenditure'].loc[df['expenditure'] != '?']\n",
        "emean = expenditure.astype(int).mean()\n",
        "df['expenditure'] = df['expenditure'].replace('?', emean).astype(int)\n",
        "df['expenditure'].head()\n"
      ],
      "metadata": {
        "colab": {
          "base_uri": "https://localhost:8080/",
          "height": 241
        },
        "id": "EJi1265lrrHa",
        "outputId": "28043686-7814-48cb-e4bf-a0229b3cc868"
      },
      "execution_count": 20,
      "outputs": [
        {
          "output_type": "execute_result",
          "data": {
            "text/plain": [
              "0    124\n",
              "1      9\n",
              "2     15\n",
              "3    137\n",
              "4    546\n",
              "Name: expenditure, dtype: int64"
            ],
            "text/html": [
              "<div>\n",
              "<style scoped>\n",
              "    .dataframe tbody tr th:only-of-type {\n",
              "        vertical-align: middle;\n",
              "    }\n",
              "\n",
              "    .dataframe tbody tr th {\n",
              "        vertical-align: top;\n",
              "    }\n",
              "\n",
              "    .dataframe thead th {\n",
              "        text-align: right;\n",
              "    }\n",
              "</style>\n",
              "<table border=\"1\" class=\"dataframe\">\n",
              "  <thead>\n",
              "    <tr style=\"text-align: right;\">\n",
              "      <th></th>\n",
              "      <th>expenditure</th>\n",
              "    </tr>\n",
              "  </thead>\n",
              "  <tbody>\n",
              "    <tr>\n",
              "      <th>0</th>\n",
              "      <td>124</td>\n",
              "    </tr>\n",
              "    <tr>\n",
              "      <th>1</th>\n",
              "      <td>9</td>\n",
              "    </tr>\n",
              "    <tr>\n",
              "      <th>2</th>\n",
              "      <td>15</td>\n",
              "    </tr>\n",
              "    <tr>\n",
              "      <th>3</th>\n",
              "      <td>137</td>\n",
              "    </tr>\n",
              "    <tr>\n",
              "      <th>4</th>\n",
              "      <td>546</td>\n",
              "    </tr>\n",
              "  </tbody>\n",
              "</table>\n",
              "</div><br><label><b>dtype:</b> int64</label>"
            ]
          },
          "metadata": {},
          "execution_count": 20
        }
      ]
    },
    {
      "cell_type": "code",
      "source": [
        "# Cleaning the age field\n",
        "df[df['age'] == '?'].count()\n",
        "age_count = df['age'].loc[df['age'] != '?'].count()\n",
        "amean = age_count.astype(int).mean()\n",
        "df['age'] = df['age'].replace('?', amean).astype(int)\n",
        "df['age'].head()\n"
      ],
      "metadata": {
        "colab": {
          "base_uri": "https://localhost:8080/",
          "height": 241
        },
        "id": "4alFBKzTsQz3",
        "outputId": "52d05b7e-125c-4040-b42b-4166aa5d3486"
      },
      "execution_count": 21,
      "outputs": [
        {
          "output_type": "execute_result",
          "data": {
            "text/plain": [
              "0    37\n",
              "1    33\n",
              "2    33\n",
              "3    30\n",
              "4    32\n",
              "Name: age, dtype: int64"
            ],
            "text/html": [
              "<div>\n",
              "<style scoped>\n",
              "    .dataframe tbody tr th:only-of-type {\n",
              "        vertical-align: middle;\n",
              "    }\n",
              "\n",
              "    .dataframe tbody tr th {\n",
              "        vertical-align: top;\n",
              "    }\n",
              "\n",
              "    .dataframe thead th {\n",
              "        text-align: right;\n",
              "    }\n",
              "</style>\n",
              "<table border=\"1\" class=\"dataframe\">\n",
              "  <thead>\n",
              "    <tr style=\"text-align: right;\">\n",
              "      <th></th>\n",
              "      <th>age</th>\n",
              "    </tr>\n",
              "  </thead>\n",
              "  <tbody>\n",
              "    <tr>\n",
              "      <th>0</th>\n",
              "      <td>37</td>\n",
              "    </tr>\n",
              "    <tr>\n",
              "      <th>1</th>\n",
              "      <td>33</td>\n",
              "    </tr>\n",
              "    <tr>\n",
              "      <th>2</th>\n",
              "      <td>33</td>\n",
              "    </tr>\n",
              "    <tr>\n",
              "      <th>3</th>\n",
              "      <td>30</td>\n",
              "    </tr>\n",
              "    <tr>\n",
              "      <th>4</th>\n",
              "      <td>32</td>\n",
              "    </tr>\n",
              "  </tbody>\n",
              "</table>\n",
              "</div><br><label><b>dtype:</b> int64</label>"
            ]
          },
          "metadata": {},
          "execution_count": 21
        }
      ]
    },
    {
      "cell_type": "code",
      "source": [
        "# 6. Compute the measure of central tendency of the income column.\n",
        "# Descriptive Statistics\n",
        "# Calculate mean, median, and mode of dataset income\n",
        "mean = df[\"income\"].mean()\n",
        "median = df[\"income\"].median()\n",
        "mode = df[\"income\"].mode()\n",
        "print(mean, median, mode)\n"
      ],
      "metadata": {
        "colab": {
          "base_uri": "https://localhost:8080/"
        },
        "id": "ryTGJQtLsc4T",
        "outputId": "71b87f0c-f502-4c68-feef-184614fc1e9c"
      },
      "execution_count": 22,
      "outputs": [
        {
          "output_type": "stream",
          "name": "stdout",
          "text": [
            "2.925701288855193 2.0 0    2\n",
            "Name: income, dtype: int64\n"
          ]
        }
      ]
    },
    {
      "cell_type": "code",
      "source": [
        "\n",
        "#7. First 30 largest values and draw a bar chart\n",
        "df.income.value_counts().nlargest(30).plot(kind='bar', figsize=(10,6))\n",
        "plt.title(\"income distribution\")\n",
        "plt.ylabel('income labels')\n",
        "plt.xlabel('income types')"
      ],
      "metadata": {
        "colab": {
          "base_uri": "https://localhost:8080/",
          "height": 585
        },
        "id": "MJ7fh-IYsq81",
        "outputId": "063b483b-38d9-446c-8aa8-4d6a8e0ad717"
      },
      "execution_count": 25,
      "outputs": [
        {
          "output_type": "execute_result",
          "data": {
            "text/plain": [
              "Text(0.5, 0, 'income types')"
            ]
          },
          "metadata": {},
          "execution_count": 25
        },
        {
          "output_type": "display_data",
          "data": {
            "text/plain": [
              "<Figure size 1000x600 with 1 Axes>"
            ],
            "image/png": "[encoded data removed]"
          },
          "metadata": {}
        }
      ]
    },
    {
      "cell_type": "code",
      "source": [
        "#8. Distribution plot\n",
        "sns.FacetGrid(df).map(sns.distplot,\"expenditure\").add_legend()"
      ],
      "metadata": {
        "colab": {
          "base_uri": "https://localhost:8080/",
          "height": 515
        },
        "id": "TnGIcy-Fs39I",
        "outputId": "dd1c1c79-31ac-40eb-a265-3ee6ef34de6b"
      },
      "execution_count": 26,
      "outputs": [
        {
          "output_type": "stream",
          "name": "stderr",
          "text": [
            "/usr/local/lib/python3.10/dist-packages/seaborn/axisgrid.py:854: UserWarning: \n",
            "\n",
            "`distplot` is a deprecated function and will be removed in seaborn v0.14.0.\n",
            "\n",
            "Please adapt your code to use either `displot` (a figure-level function with\n",
            "similar flexibility) or `histplot` (an axes-level function for histograms).\n",
            "\n",
            "For a guide to updating your code to use the new functions, please see\n",
            "https://gist.github.com/mwaskom/de44147ed2974457ad6372750bbe5751\n",
            "\n",
            "  func(*plot_args, **plot_kwargs)\n"
          ]
        },
        {
          "output_type": "execute_result",
          "data": {
            "text/plain": [
              "<seaborn.axisgrid.FacetGrid at 0x7baf193c3b80>"
            ]
          },
          "metadata": {},
          "execution_count": 26
        },
        {
          "output_type": "display_data",
          "data": {
            "text/plain": [
              "<Figure size 311.111x300 with 1 Axes>"
            ],
            "image/png": "[encoded data removed]"
          },
          "metadata": {}
        }
      ]
    },
    {
      "cell_type": "code",
      "source": [
        "\n",
        "#boxplot for income\n",
        "sns.boxplot(x=\"income\",data=df)\n",
        "plt.show()"
      ],
      "metadata": {
        "colab": {
          "base_uri": "https://localhost:8080/",
          "height": 449
        },
        "id": "VAV-Ey-ItaCb",
        "outputId": "8806dd23-dff7-4c26-cbec-ab267086251a"
      },
      "execution_count": 27,
      "outputs": [
        {
          "output_type": "display_data",
          "data": {
            "text/plain": [
              "<Figure size 640x480 with 1 Axes>"
            ],
            "image/png": "[encoded data removed]"
          },
          "metadata": {}
        }
      ]
    },
    {
      "cell_type": "markdown",
      "source": [
        "# **BIVARIATE ANALYSIS**"
      ],
      "metadata": {
        "id": "B4JlGlNStw3H"
      }
    },
    {
      "cell_type": "code",
      "source": [
        "#1. To perform bivariate analysis on creditcard dataset.\n",
        "#Plot the relationship between “income” and ”age”\n",
        "plt.scatter(df[\"income\"], df[\"age\"])\n",
        "plt.title(\"Scatter Plot for income vs age\")\n",
        "plt.xlabel(\"income\")\n",
        "plt.ylabel(\"age\")"
      ],
      "metadata": {
        "colab": {
          "base_uri": "https://localhost:8080/",
          "height": 489
        },
        "id": "OsNIsaK2t1fr",
        "outputId": "2ab65f22-78a3-470a-f2c1-47b98d622a7c"
      },
      "execution_count": 28,
      "outputs": [
        {
          "output_type": "execute_result",
          "data": {
            "text/plain": [
              "Text(0, 0.5, 'age')"
            ]
          },
          "metadata": {},
          "execution_count": 28
        },
        {
          "output_type": "display_data",
          "data": {
            "text/plain": [
              "<Figure size 640x480 with 1 Axes>"
            ],
            "image/png": "[encoded data removed]"
          },
          "metadata": {}
        }
      ]
    },
    {
      "cell_type": "code",
      "source": [
        "\n",
        "#2. Draw a box plot between the income and expenditure\n",
        "\n",
        "sns.boxplot(x=\"income\",y=\"expenditure\",data=df)\n",
        "plt.show()"
      ],
      "metadata": {
        "colab": {
          "base_uri": "https://localhost:8080/",
          "height": 449
        },
        "id": "Ax6CSjACuHHg",
        "outputId": "10a9bcc9-e091-420e-92d6-b3dc501fe612"
      },
      "execution_count": 29,
      "outputs": [
        {
          "output_type": "display_data",
          "data": {
            "text/plain": [
              "<Figure size 640x480 with 1 Axes>"
            ],
            "image/png": "[encoded data removed]"
          },
          "metadata": {}
        }
      ]
    },
    {
      "cell_type": "code",
      "source": [
        "#3. Plot another box plot with the income and age\n",
        "sns.boxplot(x=\"income\", y=\"age\",data=df)"
      ],
      "metadata": {
        "colab": {
          "base_uri": "https://localhost:8080/",
          "height": 466
        },
        "id": "1sZ9uzXouRY7",
        "outputId": "c6512a1c-2e14-4b63-f04b-93beb779517c"
      },
      "execution_count": 30,
      "outputs": [
        {
          "output_type": "execute_result",
          "data": {
            "text/plain": [
              "<Axes: xlabel='income', ylabel='age'>"
            ]
          },
          "metadata": {},
          "execution_count": 30
        },
        {
          "output_type": "display_data",
          "data": {
            "text/plain": [
              "<Figure size 640x480 with 1 Axes>"
            ],
            "image/png": "[encoded data removed]"
          },
          "metadata": {}
        }
      ]
    },
    {
      "cell_type": "markdown",
      "source": [
        "# **MULTIVARIATE ANALYSIS**"
      ],
      "metadata": {
        "id": "948it12WvCc2"
      }
    },
    {
      "cell_type": "code",
      "source": [
        "# pair plot with plot type regression\n",
        "sns.pairplot(df,vars = ['age', 'income','expenditure'], kind=\"reg\")\n",
        "plt.show()"
      ],
      "metadata": {
        "colab": {
          "base_uri": "https://localhost:8080/",
          "height": 758
        },
        "id": "ocTAbgcPvDzS",
        "outputId": "21332a72-85ce-484a-9a3f-9ac9e258f320"
      },
      "execution_count": 31,
      "outputs": [
        {
          "output_type": "display_data",
          "data": {
            "text/plain": [
              "<Figure size 750x750 with 12 Axes>"
            ],
            "image/png": "[encoded data removed]"
          },
          "metadata": {}
        }
      ]
    },
    {
      "cell_type": "code",
      "source": [
        "\n",
        "#3. To calculate the correlation 3. coefficient for age and income,\n",
        "from scipy import stats\n",
        "\n",
        "corr = stats.pearsonr(df[\"age\"], df[\"income\"])\n",
        "print(\"p-value:\\t\", corr[1])\n",
        "print(\"cor:\\t\\t\", corr[0])"
      ],
      "metadata": {
        "colab": {
          "base_uri": "https://localhost:8080/"
        },
        "id": "j9kgYLExvLIu",
        "outputId": "75faff9b-2c02-4d80-ec6c-2bf291e6b8cc"
      },
      "execution_count": 32,
      "outputs": [
        {
          "output_type": "stream",
          "name": "stdout",
          "text": [
            "p-value:\t 2.86320162687117e-32\n",
            "cor:\t\t 0.3174653930293144\n"
          ]
        }
      ]
    },
    {
      "cell_type": "code",
      "source": [
        "# To find the correlation among the entire numerical records\n",
        "# the columns using pearson method\n",
        "correlation = df.corr(method='pearson', numeric_only=True)\n",
        "correlation"
      ],
      "metadata": {
        "colab": {
          "base_uri": "https://localhost:8080/",
          "height": 394
        },
        "id": "1kqBJFz6vc4A",
        "outputId": "79aa1989-61b2-4bc1-fd28-158bdaf15b28"
      },
      "execution_count": 33,
      "outputs": [
        {
          "output_type": "execute_result",
          "data": {
            "text/plain": [
              "             rownames   reports       age    income     share  expenditure  \\\n",
              "rownames     1.000000  0.023081  0.072102 -0.023949  0.066335     0.034581   \n",
              "reports      0.023081  1.000000  0.043938  0.015818 -0.159011    -0.136246   \n",
              "age          0.072102  0.043938  1.000000  0.317465 -0.115051     0.015550   \n",
              "income      -0.023949  0.015818  0.317465  1.000000 -0.052882     0.280608   \n",
              "share        0.066335 -0.159011 -0.115051 -0.052882  1.000000     0.838705   \n",
              "expenditure  0.034581 -0.136246  0.015550  0.280608  0.838705     1.000000   \n",
              "dependents   0.052303  0.019731  0.211993  0.318275 -0.082618     0.052768   \n",
              "months       0.080723  0.048968  0.437871  0.119657 -0.055348    -0.029081   \n",
              "majorcards  -0.002221 -0.007304  0.009091  0.105161  0.051470     0.077464   \n",
              "active       0.004624  0.207755  0.181567  0.181834 -0.023474     0.054682   \n",
              "new_column        NaN       NaN       NaN       NaN       NaN          NaN   \n",
              "\n",
              "             dependents    months  majorcards    active  new_column  \n",
              "rownames       0.052303  0.080723   -0.002221  0.004624         NaN  \n",
              "reports        0.019731  0.048968   -0.007304  0.207755         NaN  \n",
              "age            0.211993  0.437871    0.009091  0.181567         NaN  \n",
              "income         0.318275  0.119657    0.105161  0.181834         NaN  \n",
              "share         -0.082618 -0.055348    0.051470 -0.023474         NaN  \n",
              "expenditure    0.052768 -0.029081    0.077464  0.054682         NaN  \n",
              "dependents     1.000000  0.046512    0.010285  0.107133         NaN  \n",
              "months         0.046512  1.000000   -0.041447  0.100028         NaN  \n",
              "majorcards     0.010285 -0.041447    1.000000  0.119603         NaN  \n",
              "active         0.107133  0.100028    0.119603  1.000000         NaN  \n",
              "new_column          NaN       NaN         NaN       NaN         NaN  "
            ],
            "text/html": [
              "\n",
              "  <div id=\"df-6947a09c-f169-4945-b95e-c280ea25d167\" class=\"colab-df-container\">\n",
              "    <div>\n",
              "<style scoped>\n",
              "    .dataframe tbody tr th:only-of-type {\n",
              "        vertical-align: middle;\n",
              "    }\n",
              "\n",
              "    .dataframe tbody tr th {\n",
              "        vertical-align: top;\n",
              "    }\n",
              "\n",
              "    .dataframe thead th {\n",
              "        text-align: right;\n",
              "    }\n",
              "</style>\n",
              "<table border=\"1\" class=\"dataframe\">\n",
              "  <thead>\n",
              "    <tr style=\"text-align: right;\">\n",
              "      <th></th>\n",
              "      <th>rownames</th>\n",
              "      <th>reports</th>\n",
              "      <th>age</th>\n",
              "      <th>income</th>\n",
              "      <th>share</th>\n",
              "      <th>expenditure</th>\n",
              "      <th>dependents</th>\n",
              "      <th>months</th>\n",
              "      <th>majorcards</th>\n",
              "      <th>active</th>\n",
              "      <th>new_column</th>\n",
              "    </tr>\n",
              "  </thead>\n",
              "  <tbody>\n",
              "    <tr>\n",
              "      <th>rownames</th>\n",
              "      <td>1.000000</td>\n",
              "      <td>0.023081</td>\n",
              "      <td>0.072102</td>\n",
              "      <td>-0.023949</td>\n",
              "      <td>0.066335</td>\n",
              "      <td>0.034581</td>\n",
              "      <td>0.052303</td>\n",
              "      <td>0.080723</td>\n",
              "      <td>-0.002221</td>\n",
              "      <td>0.004624</td>\n",
              "      <td>NaN</td>\n",
              "    </tr>\n",
              "    <tr>\n",
              "      <th>reports</th>\n",
              "      <td>0.023081</td>\n",
              "      <td>1.000000</td>\n",
              "      <td>0.043938</td>\n",
              "      <td>0.015818</td>\n",
              "      <td>-0.159011</td>\n",
              "      <td>-0.136246</td>\n",
              "      <td>0.019731</td>\n",
              "      <td>0.048968</td>\n",
              "      <td>-0.007304</td>\n",
              "      <td>0.207755</td>\n",
              "      <td>NaN</td>\n",
              "    </tr>\n",
              "    <tr>\n",
              "      <th>age</th>\n",
              "      <td>0.072102</td>\n",
              "      <td>0.043938</td>\n",
              "      <td>1.000000</td>\n",
              "      <td>0.317465</td>\n",
              "      <td>-0.115051</td>\n",
              "      <td>0.015550</td>\n",
              "      <td>0.211993</td>\n",
              "      <td>0.437871</td>\n",
              "      <td>0.009091</td>\n",
              "      <td>0.181567</td>\n",
              "      <td>NaN</td>\n",
              "    </tr>\n",
              "    <tr>\n",
              "      <th>income</th>\n",
              "      <td>-0.023949</td>\n",
              "      <td>0.015818</td>\n",
              "      <td>0.317465</td>\n",
              "      <td>1.000000</td>\n",
              "      <td>-0.052882</td>\n",
              "      <td>0.280608</td>\n",
              "      <td>0.318275</td>\n",
              "      <td>0.119657</td>\n",
              "      <td>0.105161</td>\n",
              "      <td>0.181834</td>\n",
              "      <td>NaN</td>\n",
              "    </tr>\n",
              "    <tr>\n",
              "      <th>share</th>\n",
              "      <td>0.066335</td>\n",
              "      <td>-0.159011</td>\n",
              "      <td>-0.115051</td>\n",
              "      <td>-0.052882</td>\n",
              "      <td>1.000000</td>\n",
              "      <td>0.838705</td>\n",
              "      <td>-0.082618</td>\n",
              "      <td>-0.055348</td>\n",
              "      <td>0.051470</td>\n",
              "      <td>-0.023474</td>\n",
              "      <td>NaN</td>\n",
              "    </tr>\n",
              "    <tr>\n",
              "      <th>expenditure</th>\n",
              "      <td>0.034581</td>\n",
              "      <td>-0.136246</td>\n",
              "      <td>0.015550</td>\n",
              "      <td>0.280608</td>\n",
              "      <td>0.838705</td>\n",
              "      <td>1.000000</td>\n",
              "      <td>0.052768</td>\n",
              "      <td>-0.029081</td>\n",
              "      <td>0.077464</td>\n",
              "      <td>0.054682</td>\n",
              "      <td>NaN</td>\n",
              "    </tr>\n",
              "    <tr>\n",
              "      <th>dependents</th>\n",
              "      <td>0.052303</td>\n",
              "      <td>0.019731</td>\n",
              "      <td>0.211993</td>\n",
              "      <td>0.318275</td>\n",
              "      <td>-0.082618</td>\n",
              "      <td>0.052768</td>\n",
              "      <td>1.000000</td>\n",
              "      <td>0.046512</td>\n",
              "      <td>0.010285</td>\n",
              "      <td>0.107133</td>\n",
              "      <td>NaN</td>\n",
              "    </tr>\n",
              "    <tr>\n",
              "      <th>months</th>\n",
              "      <td>0.080723</td>\n",
              "      <td>0.048968</td>\n",
              "      <td>0.437871</td>\n",
              "      <td>0.119657</td>\n",
              "      <td>-0.055348</td>\n",
              "      <td>-0.029081</td>\n",
              "      <td>0.046512</td>\n",
              "      <td>1.000000</td>\n",
              "      <td>-0.041447</td>\n",
              "      <td>0.100028</td>\n",
              "      <td>NaN</td>\n",
              "    </tr>\n",
              "    <tr>\n",
              "      <th>majorcards</th>\n",
              "      <td>-0.002221</td>\n",
              "      <td>-0.007304</td>\n",
              "      <td>0.009091</td>\n",
              "      <td>0.105161</td>\n",
              "      <td>0.051470</td>\n",
              "      <td>0.077464</td>\n",
              "      <td>0.010285</td>\n",
              "      <td>-0.041447</td>\n",
              "      <td>1.000000</td>\n",
              "      <td>0.119603</td>\n",
              "      <td>NaN</td>\n",
              "    </tr>\n",
              "    <tr>\n",
              "      <th>active</th>\n",
              "      <td>0.004624</td>\n",
              "      <td>0.207755</td>\n",
              "      <td>0.181567</td>\n",
              "      <td>0.181834</td>\n",
              "      <td>-0.023474</td>\n",
              "      <td>0.054682</td>\n",
              "      <td>0.107133</td>\n",
              "      <td>0.100028</td>\n",
              "      <td>0.119603</td>\n",
              "      <td>1.000000</td>\n",
              "      <td>NaN</td>\n",
              "    </tr>\n",
              "    <tr>\n",
              "      <th>new_column</th>\n",
              "      <td>NaN</td>\n",
              "      <td>NaN</td>\n",
              "      <td>NaN</td>\n",
              "      <td>NaN</td>\n",
              "      <td>NaN</td>\n",
              "      <td>NaN</td>\n",
              "      <td>NaN</td>\n",
              "      <td>NaN</td>\n",
              "      <td>NaN</td>\n",
              "      <td>NaN</td>\n",
              "      <td>NaN</td>\n",
              "    </tr>\n",
              "  </tbody>\n",
              "</table>\n",
              "</div>\n",
              "    <div class=\"colab-df-buttons\">\n",
              "\n",
              "  <div class=\"colab-df-container\">\n",
              "    <button class=\"colab-df-convert\" onclick=\"convertToInteractive('df-6947a09c-f169-4945-b95e-c280ea25d167')\"\n",
              "            title=\"Convert this dataframe to an interactive table.\"\n",
              "            style=\"display:none;\">\n",
              "\n",
              "  <svg xmlns=\"http://www.w3.org/2000/svg\" height=\"24px\" viewBox=\"0 -960 960 960\">\n",
              "    <path d=\"M120-120v-720h720v720H120Zm60-500h600v-160H180v160Zm220 220h160v-160H400v160Zm0 220h160v-160H400v160ZM180-400h160v-160H180v160Zm440 0h160v-160H620v160ZM180-180h160v-160H180v160Zm440 0h160v-160H620v160Z\"/>\n",
              "  </svg>\n",
              "    </button>\n",
              "\n",
              "  <style>\n",
              "    .colab-df-container {\n",
              "      display:flex;\n",
              "      gap: 12px;\n",
              "    }\n",
              "\n",
              "    .colab-df-convert {\n",
              "      background-color: #E8F0FE;\n",
              "      border: none;\n",
              "      border-radius: 50%;\n",
              "      cursor: pointer;\n",
              "      display: none;\n",
              "      fill: #1967D2;\n",
              "      height: 32px;\n",
              "      padding: 0 0 0 0;\n",
              "      width: 32px;\n",
              "    }\n",
              "\n",
              "    .colab-df-convert:hover {\n",
              "      background-color: #E2EBFA;\n",
              "      box-shadow: 0px 1px 2px rgba(60, 64, 67, 0.3), 0px 1px 3px 1px rgba(60, 64, 67, 0.15);\n",
              "      fill: #174EA6;\n",
              "    }\n",
              "\n",
              "    .colab-df-buttons div {\n",
              "      margin-bottom: 4px;\n",
              "    }\n",
              "\n",
              "    [theme=dark] .colab-df-convert {\n",
              "      background-color: #3B4455;\n",
              "      fill: #D2E3FC;\n",
              "    }\n",
              "\n",
              "    [theme=dark] .colab-df-convert:hover {\n",
              "      background-color: #434B5C;\n",
              "      box-shadow: 0px 1px 3px 1px rgba(0, 0, 0, 0.15);\n",
              "      filter: drop-shadow(0px 1px 2px rgba(0, 0, 0, 0.3));\n",
              "      fill: #FFFFFF;\n",
              "    }\n",
              "  </style>\n",
              "\n",
              "    <script>\n",
              "      const buttonEl =\n",
              "        document.querySelector('#df-6947a09c-f169-4945-b95e-c280ea25d167 button.colab-df-convert');\n",
              "      buttonEl.style.display =\n",
              "        google.colab.kernel.accessAllowed ? 'block' : 'none';\n",
              "\n",
              "      async function convertToInteractive(key) {\n",
              "        const element = document.querySelector('#df-6947a09c-f169-4945-b95e-c280ea25d167');\n",
              "        const dataTable =\n",
              "          await google.colab.kernel.invokeFunction('convertToInteractive',\n",
              "                                                    [key], {});\n",
              "        if (!dataTable) return;\n",
              "\n",
              "        const docLinkHtml = 'Like what you see? Visit the ' +\n",
              "          '<a target=\"_blank\" href=https://colab.research.google.com/notebooks/data_table.ipynb>data table notebook</a>'\n",
              "          + ' to learn more about interactive tables.';\n",
              "        element.innerHTML = '';\n",
              "        dataTable['output_type'] = 'display_data';\n",
              "        await google.colab.output.renderOutput(dataTable, element);\n",
              "        const docLink = document.createElement('div');\n",
              "        docLink.innerHTML = docLinkHtml;\n",
              "        element.appendChild(docLink);\n",
              "      }\n",
              "    </script>\n",
              "  </div>\n",
              "\n",
              "\n",
              "<div id=\"df-91376c40-1df1-4ad9-98cc-247e16757bb9\">\n",
              "  <button class=\"colab-df-quickchart\" onclick=\"quickchart('df-91376c40-1df1-4ad9-98cc-247e16757bb9')\"\n",
              "            title=\"Suggest charts\"\n",
              "            style=\"display:none;\">\n",
              "\n",
              "<svg xmlns=\"http://www.w3.org/2000/svg\" height=\"24px\"viewBox=\"0 0 24 24\"\n",
              "     width=\"24px\">\n",
              "    <g>\n",
              "        <path d=\"M19 3H5c-1.1 0-2 .9-2 2v14c0 1.1.9 2 2 2h14c1.1 0 2-.9 2-2V5c0-1.1-.9-2-2-2zM9 17H7v-7h2v7zm4 0h-2V7h2v10zm4 0h-2v-4h2v4z\"/>\n",
              "    </g>\n",
              "</svg>\n",
              "  </button>\n",
              "\n",
              "<style>\n",
              "  .colab-df-quickchart {\n",
              "      --bg-color: #E8F0FE;\n",
              "      --fill-color: #1967D2;\n",
              "      --hover-bg-color: #E2EBFA;\n",
              "      --hover-fill-color: #174EA6;\n",
              "      --disabled-fill-color: #AAA;\n",
              "      --disabled-bg-color: #DDD;\n",
              "  }\n",
              "\n",
              "  [theme=dark] .colab-df-quickchart {\n",
              "      --bg-color: #3B4455;\n",
              "      --fill-color: #D2E3FC;\n",
              "      --hover-bg-color: #434B5C;\n",
              "      --hover-fill-color: #FFFFFF;\n",
              "      --disabled-bg-color: #3B4455;\n",
              "      --disabled-fill-color: #666;\n",
              "  }\n",
              "\n",
              "  .colab-df-quickchart {\n",
              "    background-color: var(--bg-color);\n",
              "    border: none;\n",
              "    border-radius: 50%;\n",
              "    cursor: pointer;\n",
              "    display: none;\n",
              "    fill: var(--fill-color);\n",
              "    height: 32px;\n",
              "    padding: 0;\n",
              "    width: 32px;\n",
              "  }\n",
              "\n",
              "  .colab-df-quickchart:hover {\n",
              "    background-color: var(--hover-bg-color);\n",
              "    box-shadow: 0 1px 2px rgba(60, 64, 67, 0.3), 0 1px 3px 1px rgba(60, 64, 67, 0.15);\n",
              "    fill: var(--button-hover-fill-color);\n",
              "  }\n",
              "\n",
              "  .colab-df-quickchart-complete:disabled,\n",
              "  .colab-df-quickchart-complete:disabled:hover {\n",
              "    background-color: var(--disabled-bg-color);\n",
              "    fill: var(--disabled-fill-color);\n",
              "    box-shadow: none;\n",
              "  }\n",
              "\n",
              "  .colab-df-spinner {\n",
              "    border: 2px solid var(--fill-color);\n",
              "    border-color: transparent;\n",
              "    border-bottom-color: var(--fill-color);\n",
              "    animation:\n",
              "      spin 1s steps(1) infinite;\n",
              "  }\n",
              "\n",
              "  @keyframes spin {\n",
              "    0% {\n",
              "      border-color: transparent;\n",
              "      border-bottom-color: var(--fill-color);\n",
              "      border-left-color: var(--fill-color);\n",
              "    }\n",
              "    20% {\n",
              "      border-color: transparent;\n",
              "      border-left-color: var(--fill-color);\n",
              "      border-top-color: var(--fill-color);\n",
              "    }\n",
              "    30% {\n",
              "      border-color: transparent;\n",
              "      border-left-color: var(--fill-color);\n",
              "      border-top-color: var(--fill-color);\n",
              "      border-right-color: var(--fill-color);\n",
              "    }\n",
              "    40% {\n",
              "      border-color: transparent;\n",
              "      border-right-color: var(--fill-color);\n",
              "      border-top-color: var(--fill-color);\n",
              "    }\n",
              "    60% {\n",
              "      border-color: transparent;\n",
              "      border-right-color: var(--fill-color);\n",
              "    }\n",
              "    80% {\n",
              "      border-color: transparent;\n",
              "      border-right-color: var(--fill-color);\n",
              "      border-bottom-color: var(--fill-color);\n",
              "    }\n",
              "    90% {\n",
              "      border-color: transparent;\n",
              "      border-bottom-color: var(--fill-color);\n",
              "    }\n",
              "  }\n",
              "</style>\n",
              "\n",
              "  <script>\n",
              "    async function quickchart(key) {\n",
              "      const quickchartButtonEl =\n",
              "        document.querySelector('#' + key + ' button');\n",
              "      quickchartButtonEl.disabled = true;  // To prevent multiple clicks.\n",
              "      quickchartButtonEl.classList.add('colab-df-spinner');\n",
              "      try {\n",
              "        const charts = await google.colab.kernel.invokeFunction(\n",
              "            'suggestCharts', [key], {});\n",
              "      } catch (error) {\n",
              "        console.error('Error during call to suggestCharts:', error);\n",
              "      }\n",
              "      quickchartButtonEl.classList.remove('colab-df-spinner');\n",
              "      quickchartButtonEl.classList.add('colab-df-quickchart-complete');\n",
              "    }\n",
              "    (() => {\n",
              "      let quickchartButtonEl =\n",
              "        document.querySelector('#df-91376c40-1df1-4ad9-98cc-247e16757bb9 button');\n",
              "      quickchartButtonEl.style.display =\n",
              "        google.colab.kernel.accessAllowed ? 'block' : 'none';\n",
              "    })();\n",
              "  </script>\n",
              "</div>\n",
              "\n",
              "  <div id=\"id_ba49e240-b170-463b-9f03-a3e284276b45\">\n",
              "    <style>\n",
              "      .colab-df-generate {\n",
              "        background-color: #E8F0FE;\n",
              "        border: none;\n",
              "        border-radius: 50%;\n",
              "        cursor: pointer;\n",
              "        display: none;\n",
              "        fill: #1967D2;\n",
              "        height: 32px;\n",
              "        padding: 0 0 0 0;\n",
              "        width: 32px;\n",
              "      }\n",
              "\n",
              "      .colab-df-generate:hover {\n",
              "        background-color: #E2EBFA;\n",
              "        box-shadow: 0px 1px 2px rgba(60, 64, 67, 0.3), 0px 1px 3px 1px rgba(60, 64, 67, 0.15);\n",
              "        fill: #174EA6;\n",
              "      }\n",
              "\n",
              "      [theme=dark] .colab-df-generate {\n",
              "        background-color: #3B4455;\n",
              "        fill: #D2E3FC;\n",
              "      }\n",
              "\n",
              "      [theme=dark] .colab-df-generate:hover {\n",
              "        background-color: #434B5C;\n",
              "        box-shadow: 0px 1px 3px 1px rgba(0, 0, 0, 0.15);\n",
              "        filter: drop-shadow(0px 1px 2px rgba(0, 0, 0, 0.3));\n",
              "        fill: #FFFFFF;\n",
              "      }\n",
              "    </style>\n",
              "    <button class=\"colab-df-generate\" onclick=\"generateWithVariable('correlation')\"\n",
              "            title=\"Generate code using this dataframe.\"\n",
              "            style=\"display:none;\">\n",
              "\n",
              "  <svg xmlns=\"http://www.w3.org/2000/svg\" height=\"24px\"viewBox=\"0 0 24 24\"\n",
              "       width=\"24px\">\n",
              "    <path d=\"M7,19H8.4L18.45,9,17,7.55,7,17.6ZM5,21V16.75L18.45,3.32a2,2,0,0,1,2.83,0l1.4,1.43a1.91,1.91,0,0,1,.58,1.4,1.91,1.91,0,0,1-.58,1.4L9.25,21ZM18.45,9,17,7.55Zm-12,3A5.31,5.31,0,0,0,4.9,8.1,5.31,5.31,0,0,0,1,6.5,5.31,5.31,0,0,0,4.9,4.9,5.31,5.31,0,0,0,6.5,1,5.31,5.31,0,0,0,8.1,4.9,5.31,5.31,0,0,0,12,6.5,5.46,5.46,0,0,0,6.5,12Z\"/>\n",
              "  </svg>\n",
              "    </button>\n",
              "    <script>\n",
              "      (() => {\n",
              "      const buttonEl =\n",
              "        document.querySelector('#id_ba49e240-b170-463b-9f03-a3e284276b45 button.colab-df-generate');\n",
              "      buttonEl.style.display =\n",
              "        google.colab.kernel.accessAllowed ? 'block' : 'none';\n",
              "\n",
              "      buttonEl.onclick = () => {\n",
              "        google.colab.notebook.generateWithVariable('correlation');\n",
              "      }\n",
              "      })();\n",
              "    </script>\n",
              "  </div>\n",
              "\n",
              "    </div>\n",
              "  </div>\n"
            ],
            "application/vnd.google.colaboratory.intrinsic+json": {
              "type": "dataframe",
              "variable_name": "correlation",
              "summary": "{\n  \"name\": \"correlation\",\n  \"rows\": 11,\n  \"fields\": [\n    {\n      \"column\": \"rownames\",\n      \"properties\": {\n        \"dtype\": \"number\",\n        \"std\": 0.3073548807983302,\n        \"min\": -0.02394916496660448,\n        \"max\": 1.0,\n        \"num_unique_values\": 10,\n        \"samples\": [\n          -0.0022207788910593262,\n          0.023080627041145906,\n          0.03458081362165578\n        ],\n        \"semantic_type\": \"\",\n        \"description\": \"\"\n      }\n    },\n    {\n      \"column\": \"reports\",\n      \"properties\": {\n        \"dtype\": \"number\",\n        \"std\": 0.3301339427842434,\n        \"min\": -0.15901078878189384,\n        \"max\": 1.0,\n        \"num_unique_values\": 10,\n        \"samples\": [\n          -0.007303560807779407,\n          1.0,\n          -0.13624590818018087\n        ],\n        \"semantic_type\": \"\",\n        \"description\": \"\"\n      }\n    },\n    {\n      \"column\": \"age\",\n      \"properties\": {\n        \"dtype\": \"number\",\n        \"std\": 0.3194190991966606,\n        \"min\": -0.11505097733469449,\n        \"max\": 1.0,\n        \"num_unique_values\": 10,\n        \"samples\": [\n          0.009090694624059748,\n          0.043937737136216945,\n          0.015550265016563068\n        ],\n        \"semantic_type\": \"\",\n        \"description\": \"\"\n      }\n    },\n    {\n      \"column\": \"income\",\n      \"properties\": {\n        \"dtype\": \"number\",\n        \"std\": 0.30390528561496216,\n        \"min\": -0.05288153005631371,\n        \"max\": 1.0,\n        \"num_unique_values\": 10,\n        \"samples\": [\n          0.10516097832869341,\n          0.015817544010818422,\n          0.2806077878273508\n        ],\n        \"semantic_type\": \"\",\n        \"description\": \"\"\n      }\n    },\n    {\n      \"column\": \"share\",\n      \"properties\": {\n        \"dtype\": \"number\",\n        \"std\": 0.41455382219466425,\n        \"min\": -0.15901078878189384,\n        \"max\": 1.0,\n        \"num_unique_values\": 10,\n        \"samples\": [\n          0.051469560431024124,\n          -0.15901078878189384,\n          0.8387050802754262\n        ],\n        \"semantic_type\": \"\",\n        \"description\": \"\"\n      }\n    },\n    {\n      \"column\": \"expenditure\",\n      \"properties\": {\n        \"dtype\": \"number\",\n        \"std\": 0.3852275619829194,\n        \"min\": -0.13624590818018087,\n        \"max\": 1.0,\n        \"num_unique_values\": 10,\n        \"samples\": [\n          0.07746449824736136,\n          -0.13624590818018087,\n          1.0\n        ],\n        \"semantic_type\": \"\",\n        \"description\": \"\"\n      }\n    },\n    {\n      \"column\": \"dependents\",\n      \"properties\": {\n        \"dtype\": \"number\",\n        \"std\": 0.31113050077147886,\n        \"min\": -0.08261775909010015,\n        \"max\": 1.0,\n        \"num_unique_values\": 10,\n        \"samples\": [\n          0.010284540786912077,\n          0.01973089576613959,\n          0.05276805615600655\n        ],\n        \"semantic_type\": \"\",\n        \"description\": \"\"\n      }\n    },\n    {\n      \"column\": \"months\",\n      \"properties\": {\n        \"dtype\": \"number\",\n        \"std\": 0.32336291403624057,\n        \"min\": -0.05534756220556033,\n        \"max\": 1.0,\n        \"num_unique_values\": 10,\n        \"samples\": [\n          -0.04144688273341737,\n          0.04896761846651096,\n          -0.02908055062109045\n        ],\n        \"semantic_type\": \"\",\n        \"description\": \"\"\n      }\n    },\n    {\n      \"column\": \"majorcards\",\n      \"properties\": {\n        \"dtype\": \"number\",\n        \"std\": 0.30933310454734075,\n        \"min\": -0.04144688273341737,\n        \"max\": 1.0,\n        \"num_unique_values\": 10,\n        \"samples\": [\n          1.0,\n          -0.007303560807779407,\n          0.07746449824736136\n        ],\n        \"semantic_type\": \"\",\n        \"description\": \"\"\n      }\n    },\n    {\n      \"column\": \"active\",\n      \"properties\": {\n        \"dtype\": \"number\",\n        \"std\": 0.293371880253878,\n        \"min\": -0.023474395879904044,\n        \"max\": 1.0,\n        \"num_unique_values\": 10,\n        \"samples\": [\n          0.11960277749475647,\n          0.20775501558871445,\n          0.054681848141608286\n        ],\n        \"semantic_type\": \"\",\n        \"description\": \"\"\n      }\n    },\n    {\n      \"column\": \"new_column\",\n      \"properties\": {\n        \"dtype\": \"number\",\n        \"std\": null,\n        \"min\": null,\n        \"max\": null,\n        \"num_unique_values\": 0,\n        \"samples\": [],\n        \"semantic_type\": \"\",\n        \"description\": \"\"\n      }\n    }\n  ]\n}"
            }
          },
          "metadata": {},
          "execution_count": 33
        }
      ]
    },
    {
      "cell_type": "code",
      "source": [
        "#5. Visualize this correlation analysis using a heatmap.\n",
        "#A heatmap is the best technique to make this look beautiful and easier to interpret:\n",
        "sns.heatmap(correlation,xticklabels=correlation.columns,\n",
        "            yticklabels=correlation.columns)"
      ],
      "metadata": {
        "colab": {
          "base_uri": "https://localhost:8080/",
          "height": 525
        },
        "id": "2PSCXBY0vgth",
        "outputId": "c3cbe90d-d783-437c-84a8-8afd11aea299"
      },
      "execution_count": 34,
      "outputs": [
        {
          "output_type": "execute_result",
          "data": {
            "text/plain": [
              "<Axes: >"
            ]
          },
          "metadata": {},
          "execution_count": 34
        },
        {
          "output_type": "display_data",
          "data": {
            "text/plain": [
              "<Figure size 640x480 with 2 Axes>"
            ],
            "image/png": "[encoded data removed]"
          },
          "metadata": {}
        }
      ]
    },
    {
      "cell_type": "code",
      "source": [],
      "metadata": {
        "id": "Uc_xAUj9vl7H"
      },
      "execution_count": null,
      "outputs": []
    }
  ]
}